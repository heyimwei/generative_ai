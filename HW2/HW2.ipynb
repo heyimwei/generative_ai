{
  "cells": [
    {
      "cell_type": "markdown",
      "metadata": {
        "id": "view-in-github",
        "colab_type": "text"
      },
      "source": [
        "<a href=\"https://colab.research.google.com/github/heyimwei/generative_ai/blob/main/HW2.ipynb\" target=\"_parent\"><img src=\"https://colab.research.google.com/assets/colab-badge.svg\" alt=\"Open In Colab\"/></a>"
      ]
    },
    {
      "cell_type": "markdown",
      "source": [
        "引入基本套件"
      ],
      "metadata": {
        "id": "6bkVSvzAdSNp"
      }
    },
    {
      "cell_type": "code",
      "source": [
        "import numpy as np\n",
        "import pandas as pd\n",
        "import matplotlib.pyplot as plt\n",
        "import seaborn as sns"
      ],
      "metadata": {
        "id": "cxEQKWzOdULc"
      },
      "execution_count": 1,
      "outputs": []
    },
    {
      "cell_type": "markdown",
      "metadata": {
        "id": "peN7YRgV0Ave"
      },
      "source": [
        "開始做生命中第一個神經網路。要做的是 4 層深度學習, 因此設第一層 N1 神經元, 第二層 N2, 第三層 N3, 第四層 N4"
      ]
    },
    {
      "cell_type": "code",
      "execution_count": 2,
      "metadata": {
        "id": "4Nh6oQpK2Y5W"
      },
      "outputs": [],
      "source": [
        "N1 = 64\n",
        "N2 = 64\n",
        "N3 = 64\n",
        "N4 = 32"
      ]
    },
    {
      "cell_type": "markdown",
      "metadata": {
        "id": "RkYdA5re0Ave"
      },
      "source": [
        "## 1. 讀入套件\n",
        "\n",
        "讀入基本套件"
      ]
    },
    {
      "cell_type": "code",
      "execution_count": 3,
      "metadata": {
        "id": "fdIz5z2klW4S",
        "collapsed": true
      },
      "outputs": [],
      "source": [
        "# !pip install gradio"
      ]
    },
    {
      "cell_type": "code",
      "execution_count": 4,
      "metadata": {
        "id": "pEq2NFpF0Avf"
      },
      "outputs": [],
      "source": [
        "%matplotlib inline\n",
        "\n",
        "# 標準數據分析、畫圖套件\n",
        "import numpy as np\n",
        "import matplotlib.pyplot as plt\n",
        "from PIL import Image\n",
        "\n",
        "# 神經網路方面\n",
        "import tensorflow as tf\n",
        "from tensorflow.keras.datasets import mnist\n",
        "from tensorflow.keras.utils import to_categorical\n",
        "from tensorflow.keras.models import Sequential\n",
        "from tensorflow.keras.layers import Dense\n",
        "from tensorflow.keras.optimizers import SGD\n",
        "\n",
        "# 互動設計用\n",
        "from ipywidgets import interact_manual\n",
        "\n",
        "# 神速打造 web app 的 Gradio\n",
        "import gradio as gr"
      ]
    },
    {
      "cell_type": "markdown",
      "metadata": {
        "id": "wVSdolkn0Avg"
      },
      "source": [
        "### 2.1 由 Keras 讀入 MNIST\n",
        "確認訓練資料是不是 6 萬筆、測試資料是不是有 1萬 筆。"
      ]
    },
    {
      "cell_type": "code",
      "execution_count": 5,
      "metadata": {
        "id": "LKuZWeVy0Avg",
        "colab": {
          "base_uri": "https://localhost:8080/"
        },
        "outputId": "2483a224-3018-4e9a-b4c4-263a2c314328"
      },
      "outputs": [
        {
          "output_type": "stream",
          "name": "stdout",
          "text": [
            "訓練資料總筆數為 60000 筆資料\n",
            "測試資料總筆數為 10000 筆資料\n",
            "(60000, 28, 28)\n"
          ]
        }
      ],
      "source": [
        "(x_train, y_train), (x_test, y_test) = mnist.load_data()\n",
        "print(f'訓練資料總筆數為 {len(x_train)} 筆資料')\n",
        "print(f'測試資料總筆數為 {len(x_test)} 筆資料')\n",
        "print(x_train.shape)"
      ]
    },
    {
      "cell_type": "markdown",
      "metadata": {
        "id": "fOPj5Mh50Avk"
      },
      "source": [
        "### 2.3 輸入格式整理\n",
        "\n",
        "reshape"
      ]
    },
    {
      "cell_type": "code",
      "execution_count": 6,
      "metadata": {
        "id": "pT7oXt8B0Avk",
        "colab": {
          "base_uri": "https://localhost:8080/"
        },
        "outputId": "a9728b03-6f9c-4941-9780-c7dc682eab36"
      },
      "outputs": [
        {
          "output_type": "stream",
          "name": "stdout",
          "text": [
            "(60000, 784)\n"
          ]
        }
      ],
      "source": [
        "x_train = x_train.reshape(60000, 784)/255\n",
        "x_test = x_test.reshape(10000, 784)/255\n",
        "print(x_train.shape)"
      ]
    },
    {
      "cell_type": "code",
      "execution_count": 7,
      "metadata": {
        "id": "_i22oLVf0Avl"
      },
      "outputs": [],
      "source": [
        "y_train = to_categorical(y_train, 10)\n",
        "y_test = to_categorical(y_test, 10)"
      ]
    },
    {
      "cell_type": "code",
      "execution_count": 8,
      "metadata": {
        "id": "F_fx6jw80Avm"
      },
      "outputs": [],
      "source": [
        "model = Sequential()"
      ]
    },
    {
      "cell_type": "code",
      "execution_count": 9,
      "metadata": {
        "id": "wrBnZ3Xw0Avn",
        "colab": {
          "base_uri": "https://localhost:8080/"
        },
        "outputId": "bc5e26dc-f9f3-4f4c-d171-761ea77c71c8"
      },
      "outputs": [
        {
          "output_type": "stream",
          "name": "stderr",
          "text": [
            "/usr/local/lib/python3.11/dist-packages/keras/src/layers/core/dense.py:87: UserWarning: Do not pass an `input_shape`/`input_dim` argument to a layer. When using Sequential models, prefer using an `Input(shape)` object as the first layer in the model instead.\n",
            "  super().__init__(activity_regularizer=activity_regularizer, **kwargs)\n"
          ]
        }
      ],
      "source": [
        "model.add(Dense(N1, input_dim=784, activation='relu'))"
      ]
    },
    {
      "cell_type": "code",
      "execution_count": 10,
      "metadata": {
        "id": "4UtBjkQh0Avn"
      },
      "outputs": [],
      "source": [
        "model.add(Dense(N2, activation='relu'))"
      ]
    },
    {
      "cell_type": "code",
      "execution_count": 11,
      "metadata": {
        "id": "v3pVDFVR0Avn"
      },
      "outputs": [],
      "source": [
        "model.add(Dense(N3, activation='relu'))"
      ]
    },
    {
      "cell_type": "code",
      "execution_count": 12,
      "metadata": {
        "id": "xuMGOFaGh9I2"
      },
      "outputs": [],
      "source": [
        "model.add(Dense(N4, activation='relu'))"
      ]
    },
    {
      "cell_type": "markdown",
      "metadata": {
        "id": "d1cfWRkD0Avn"
      },
      "source": [
        "用 `softmax` 當激發函數"
      ]
    },
    {
      "cell_type": "code",
      "execution_count": 13,
      "metadata": {
        "id": "H6P7C6Nk0Avo"
      },
      "outputs": [],
      "source": [
        "model.add(Dense(10, activation='softmax'))"
      ]
    },
    {
      "cell_type": "code",
      "execution_count": 14,
      "metadata": {
        "id": "lGLgh8Gz0Avo"
      },
      "outputs": [],
      "source": [
        "model.compile(loss='mse', optimizer=SGD(learning_rate=0.05), metrics=['accuracy'])"
      ]
    },
    {
      "cell_type": "markdown",
      "metadata": {
        "id": "xf9ykvbJ0Avo"
      },
      "source": [
        "## 4. 檢視我們的神經網路"
      ]
    },
    {
      "cell_type": "markdown",
      "metadata": {
        "id": "kV3613iy0Avp"
      },
      "source": [
        "### 4.1 看 model 的 summary"
      ]
    },
    {
      "cell_type": "code",
      "execution_count": 15,
      "metadata": {
        "colab": {
          "base_uri": "https://localhost:8080/",
          "height": 305
        },
        "id": "0yJJowZE0Avp",
        "outputId": "da109a50-8816-49ab-d999-947092ba3033"
      },
      "outputs": [
        {
          "output_type": "display_data",
          "data": {
            "text/plain": [
              "\u001b[1mModel: \"sequential\"\u001b[0m\n"
            ],
            "text/html": [
              "<pre style=\"white-space:pre;overflow-x:auto;line-height:normal;font-family:Menlo,'DejaVu Sans Mono',consolas,'Courier New',monospace\"><span style=\"font-weight: bold\">Model: \"sequential\"</span>\n",
              "</pre>\n"
            ]
          },
          "metadata": {}
        },
        {
          "output_type": "display_data",
          "data": {
            "text/plain": [
              "┏━━━━━━━━━━━━━━━━━━━━━━━━━━━━━━━━━━━━━━┳━━━━━━━━━━━━━━━━━━━━━━━━━━━━━┳━━━━━━━━━━━━━━━━━┓\n",
              "┃\u001b[1m \u001b[0m\u001b[1mLayer (type)                        \u001b[0m\u001b[1m \u001b[0m┃\u001b[1m \u001b[0m\u001b[1mOutput Shape               \u001b[0m\u001b[1m \u001b[0m┃\u001b[1m \u001b[0m\u001b[1m        Param #\u001b[0m\u001b[1m \u001b[0m┃\n",
              "┡━━━━━━━━━━━━━━━━━━━━━━━━━━━━━━━━━━━━━━╇━━━━━━━━━━━━━━━━━━━━━━━━━━━━━╇━━━━━━━━━━━━━━━━━┩\n",
              "│ dense (\u001b[38;5;33mDense\u001b[0m)                        │ (\u001b[38;5;45mNone\u001b[0m, \u001b[38;5;34m64\u001b[0m)                  │          \u001b[38;5;34m50,240\u001b[0m │\n",
              "├──────────────────────────────────────┼─────────────────────────────┼─────────────────┤\n",
              "│ dense_1 (\u001b[38;5;33mDense\u001b[0m)                      │ (\u001b[38;5;45mNone\u001b[0m, \u001b[38;5;34m64\u001b[0m)                  │           \u001b[38;5;34m4,160\u001b[0m │\n",
              "├──────────────────────────────────────┼─────────────────────────────┼─────────────────┤\n",
              "│ dense_2 (\u001b[38;5;33mDense\u001b[0m)                      │ (\u001b[38;5;45mNone\u001b[0m, \u001b[38;5;34m64\u001b[0m)                  │           \u001b[38;5;34m4,160\u001b[0m │\n",
              "├──────────────────────────────────────┼─────────────────────────────┼─────────────────┤\n",
              "│ dense_3 (\u001b[38;5;33mDense\u001b[0m)                      │ (\u001b[38;5;45mNone\u001b[0m, \u001b[38;5;34m32\u001b[0m)                  │           \u001b[38;5;34m2,080\u001b[0m │\n",
              "├──────────────────────────────────────┼─────────────────────────────┼─────────────────┤\n",
              "│ dense_4 (\u001b[38;5;33mDense\u001b[0m)                      │ (\u001b[38;5;45mNone\u001b[0m, \u001b[38;5;34m10\u001b[0m)                  │             \u001b[38;5;34m330\u001b[0m │\n",
              "└──────────────────────────────────────┴─────────────────────────────┴─────────────────┘\n"
            ],
            "text/html": [
              "<pre style=\"white-space:pre;overflow-x:auto;line-height:normal;font-family:Menlo,'DejaVu Sans Mono',consolas,'Courier New',monospace\">┏━━━━━━━━━━━━━━━━━━━━━━━━━━━━━━━━━━━━━━┳━━━━━━━━━━━━━━━━━━━━━━━━━━━━━┳━━━━━━━━━━━━━━━━━┓\n",
              "┃<span style=\"font-weight: bold\"> Layer (type)                         </span>┃<span style=\"font-weight: bold\"> Output Shape                </span>┃<span style=\"font-weight: bold\">         Param # </span>┃\n",
              "┡━━━━━━━━━━━━━━━━━━━━━━━━━━━━━━━━━━━━━━╇━━━━━━━━━━━━━━━━━━━━━━━━━━━━━╇━━━━━━━━━━━━━━━━━┩\n",
              "│ dense (<span style=\"color: #0087ff; text-decoration-color: #0087ff\">Dense</span>)                        │ (<span style=\"color: #00d7ff; text-decoration-color: #00d7ff\">None</span>, <span style=\"color: #00af00; text-decoration-color: #00af00\">64</span>)                  │          <span style=\"color: #00af00; text-decoration-color: #00af00\">50,240</span> │\n",
              "├──────────────────────────────────────┼─────────────────────────────┼─────────────────┤\n",
              "│ dense_1 (<span style=\"color: #0087ff; text-decoration-color: #0087ff\">Dense</span>)                      │ (<span style=\"color: #00d7ff; text-decoration-color: #00d7ff\">None</span>, <span style=\"color: #00af00; text-decoration-color: #00af00\">64</span>)                  │           <span style=\"color: #00af00; text-decoration-color: #00af00\">4,160</span> │\n",
              "├──────────────────────────────────────┼─────────────────────────────┼─────────────────┤\n",
              "│ dense_2 (<span style=\"color: #0087ff; text-decoration-color: #0087ff\">Dense</span>)                      │ (<span style=\"color: #00d7ff; text-decoration-color: #00d7ff\">None</span>, <span style=\"color: #00af00; text-decoration-color: #00af00\">64</span>)                  │           <span style=\"color: #00af00; text-decoration-color: #00af00\">4,160</span> │\n",
              "├──────────────────────────────────────┼─────────────────────────────┼─────────────────┤\n",
              "│ dense_3 (<span style=\"color: #0087ff; text-decoration-color: #0087ff\">Dense</span>)                      │ (<span style=\"color: #00d7ff; text-decoration-color: #00d7ff\">None</span>, <span style=\"color: #00af00; text-decoration-color: #00af00\">32</span>)                  │           <span style=\"color: #00af00; text-decoration-color: #00af00\">2,080</span> │\n",
              "├──────────────────────────────────────┼─────────────────────────────┼─────────────────┤\n",
              "│ dense_4 (<span style=\"color: #0087ff; text-decoration-color: #0087ff\">Dense</span>)                      │ (<span style=\"color: #00d7ff; text-decoration-color: #00d7ff\">None</span>, <span style=\"color: #00af00; text-decoration-color: #00af00\">10</span>)                  │             <span style=\"color: #00af00; text-decoration-color: #00af00\">330</span> │\n",
              "└──────────────────────────────────────┴─────────────────────────────┴─────────────────┘\n",
              "</pre>\n"
            ]
          },
          "metadata": {}
        },
        {
          "output_type": "display_data",
          "data": {
            "text/plain": [
              "\u001b[1m Total params: \u001b[0m\u001b[38;5;34m60,970\u001b[0m (238.16 KB)\n"
            ],
            "text/html": [
              "<pre style=\"white-space:pre;overflow-x:auto;line-height:normal;font-family:Menlo,'DejaVu Sans Mono',consolas,'Courier New',monospace\"><span style=\"font-weight: bold\"> Total params: </span><span style=\"color: #00af00; text-decoration-color: #00af00\">60,970</span> (238.16 KB)\n",
              "</pre>\n"
            ]
          },
          "metadata": {}
        },
        {
          "output_type": "display_data",
          "data": {
            "text/plain": [
              "\u001b[1m Trainable params: \u001b[0m\u001b[38;5;34m60,970\u001b[0m (238.16 KB)\n"
            ],
            "text/html": [
              "<pre style=\"white-space:pre;overflow-x:auto;line-height:normal;font-family:Menlo,'DejaVu Sans Mono',consolas,'Courier New',monospace\"><span style=\"font-weight: bold\"> Trainable params: </span><span style=\"color: #00af00; text-decoration-color: #00af00\">60,970</span> (238.16 KB)\n",
              "</pre>\n"
            ]
          },
          "metadata": {}
        },
        {
          "output_type": "display_data",
          "data": {
            "text/plain": [
              "\u001b[1m Non-trainable params: \u001b[0m\u001b[38;5;34m0\u001b[0m (0.00 B)\n"
            ],
            "text/html": [
              "<pre style=\"white-space:pre;overflow-x:auto;line-height:normal;font-family:Menlo,'DejaVu Sans Mono',consolas,'Courier New',monospace\"><span style=\"font-weight: bold\"> Non-trainable params: </span><span style=\"color: #00af00; text-decoration-color: #00af00\">0</span> (0.00 B)\n",
              "</pre>\n"
            ]
          },
          "metadata": {}
        }
      ],
      "source": [
        "model.summary()"
      ]
    },
    {
      "cell_type": "markdown",
      "metadata": {
        "id": "R5VHPpfd0Avp"
      },
      "source": [
        "## 5. 訓練我的第一個神經網路\n",
        "\n",
        "batch_size & epochs"
      ]
    },
    {
      "cell_type": "code",
      "execution_count": 16,
      "metadata": {
        "colab": {
          "base_uri": "https://localhost:8080/"
        },
        "id": "1jwuUx4a0Avq",
        "outputId": "0bcb949d-0110-4fc9-f26a-8fd61b99b418",
        "collapsed": true
      },
      "outputs": [
        {
          "output_type": "stream",
          "name": "stdout",
          "text": [
            "Epoch 1/100\n",
            "\u001b[1m60/60\u001b[0m \u001b[32m━━━━━━━━━━━━━━━━━━━━\u001b[0m\u001b[37m\u001b[0m \u001b[1m2s\u001b[0m 6ms/step - accuracy: 0.1025 - loss: 0.0903\n",
            "Epoch 2/100\n",
            "\u001b[1m60/60\u001b[0m \u001b[32m━━━━━━━━━━━━━━━━━━━━\u001b[0m\u001b[37m\u001b[0m \u001b[1m0s\u001b[0m 5ms/step - accuracy: 0.1105 - loss: 0.0900\n",
            "Epoch 3/100\n",
            "\u001b[1m60/60\u001b[0m \u001b[32m━━━━━━━━━━━━━━━━━━━━\u001b[0m\u001b[37m\u001b[0m \u001b[1m1s\u001b[0m 3ms/step - accuracy: 0.1185 - loss: 0.0898\n",
            "Epoch 4/100\n",
            "\u001b[1m60/60\u001b[0m \u001b[32m━━━━━━━━━━━━━━━━━━━━\u001b[0m\u001b[37m\u001b[0m \u001b[1m0s\u001b[0m 4ms/step - accuracy: 0.1248 - loss: 0.0896\n",
            "Epoch 5/100\n",
            "\u001b[1m60/60\u001b[0m \u001b[32m━━━━━━━━━━━━━━━━━━━━\u001b[0m\u001b[37m\u001b[0m \u001b[1m0s\u001b[0m 4ms/step - accuracy: 0.1257 - loss: 0.0893\n",
            "Epoch 6/100\n",
            "\u001b[1m60/60\u001b[0m \u001b[32m━━━━━━━━━━━━━━━━━━━━\u001b[0m\u001b[37m\u001b[0m \u001b[1m0s\u001b[0m 4ms/step - accuracy: 0.1294 - loss: 0.0891\n",
            "Epoch 7/100\n",
            "\u001b[1m60/60\u001b[0m \u001b[32m━━━━━━━━━━━━━━━━━━━━\u001b[0m\u001b[37m\u001b[0m \u001b[1m0s\u001b[0m 4ms/step - accuracy: 0.1291 - loss: 0.0888\n",
            "Epoch 8/100\n",
            "\u001b[1m60/60\u001b[0m \u001b[32m━━━━━━━━━━━━━━━━━━━━\u001b[0m\u001b[37m\u001b[0m \u001b[1m0s\u001b[0m 4ms/step - accuracy: 0.1294 - loss: 0.0885\n",
            "Epoch 9/100\n",
            "\u001b[1m60/60\u001b[0m \u001b[32m━━━━━━━━━━━━━━━━━━━━\u001b[0m\u001b[37m\u001b[0m \u001b[1m0s\u001b[0m 4ms/step - accuracy: 0.1340 - loss: 0.0882\n",
            "Epoch 10/100\n",
            "\u001b[1m60/60\u001b[0m \u001b[32m━━━━━━━━━━━━━━━━━━━━\u001b[0m\u001b[37m\u001b[0m \u001b[1m0s\u001b[0m 4ms/step - accuracy: 0.1410 - loss: 0.0879\n",
            "Epoch 11/100\n",
            "\u001b[1m60/60\u001b[0m \u001b[32m━━━━━━━━━━━━━━━━━━━━\u001b[0m\u001b[37m\u001b[0m \u001b[1m0s\u001b[0m 4ms/step - accuracy: 0.1562 - loss: 0.0875\n",
            "Epoch 12/100\n",
            "\u001b[1m60/60\u001b[0m \u001b[32m━━━━━━━━━━━━━━━━━━━━\u001b[0m\u001b[37m\u001b[0m \u001b[1m0s\u001b[0m 4ms/step - accuracy: 0.1759 - loss: 0.0872\n",
            "Epoch 13/100\n",
            "\u001b[1m60/60\u001b[0m \u001b[32m━━━━━━━━━━━━━━━━━━━━\u001b[0m\u001b[37m\u001b[0m \u001b[1m0s\u001b[0m 4ms/step - accuracy: 0.1987 - loss: 0.0868\n",
            "Epoch 14/100\n",
            "\u001b[1m60/60\u001b[0m \u001b[32m━━━━━━━━━━━━━━━━━━━━\u001b[0m\u001b[37m\u001b[0m \u001b[1m0s\u001b[0m 4ms/step - accuracy: 0.2258 - loss: 0.0863\n",
            "Epoch 15/100\n",
            "\u001b[1m60/60\u001b[0m \u001b[32m━━━━━━━━━━━━━━━━━━━━\u001b[0m\u001b[37m\u001b[0m \u001b[1m0s\u001b[0m 4ms/step - accuracy: 0.2463 - loss: 0.0858\n",
            "Epoch 16/100\n",
            "\u001b[1m60/60\u001b[0m \u001b[32m━━━━━━━━━━━━━━━━━━━━\u001b[0m\u001b[37m\u001b[0m \u001b[1m0s\u001b[0m 4ms/step - accuracy: 0.2675 - loss: 0.0852\n",
            "Epoch 17/100\n",
            "\u001b[1m60/60\u001b[0m \u001b[32m━━━━━━━━━━━━━━━━━━━━\u001b[0m\u001b[37m\u001b[0m \u001b[1m0s\u001b[0m 4ms/step - accuracy: 0.2835 - loss: 0.0846\n",
            "Epoch 18/100\n",
            "\u001b[1m60/60\u001b[0m \u001b[32m━━━━━━━━━━━━━━━━━━━━\u001b[0m\u001b[37m\u001b[0m \u001b[1m0s\u001b[0m 4ms/step - accuracy: 0.3002 - loss: 0.0838\n",
            "Epoch 19/100\n",
            "\u001b[1m60/60\u001b[0m \u001b[32m━━━━━━━━━━━━━━━━━━━━\u001b[0m\u001b[37m\u001b[0m \u001b[1m0s\u001b[0m 4ms/step - accuracy: 0.3180 - loss: 0.0830\n",
            "Epoch 20/100\n",
            "\u001b[1m60/60\u001b[0m \u001b[32m━━━━━━━━━━━━━━━━━━━━\u001b[0m\u001b[37m\u001b[0m \u001b[1m0s\u001b[0m 4ms/step - accuracy: 0.3340 - loss: 0.0822\n",
            "Epoch 21/100\n",
            "\u001b[1m60/60\u001b[0m \u001b[32m━━━━━━━━━━━━━━━━━━━━\u001b[0m\u001b[37m\u001b[0m \u001b[1m0s\u001b[0m 4ms/step - accuracy: 0.3494 - loss: 0.0813\n",
            "Epoch 22/100\n",
            "\u001b[1m60/60\u001b[0m \u001b[32m━━━━━━━━━━━━━━━━━━━━\u001b[0m\u001b[37m\u001b[0m \u001b[1m0s\u001b[0m 4ms/step - accuracy: 0.3676 - loss: 0.0801\n",
            "Epoch 23/100\n",
            "\u001b[1m60/60\u001b[0m \u001b[32m━━━━━━━━━━━━━━━━━━━━\u001b[0m\u001b[37m\u001b[0m \u001b[1m0s\u001b[0m 4ms/step - accuracy: 0.3850 - loss: 0.0792\n",
            "Epoch 24/100\n",
            "\u001b[1m60/60\u001b[0m \u001b[32m━━━━━━━━━━━━━━━━━━━━\u001b[0m\u001b[37m\u001b[0m \u001b[1m0s\u001b[0m 4ms/step - accuracy: 0.3996 - loss: 0.0783\n",
            "Epoch 25/100\n",
            "\u001b[1m60/60\u001b[0m \u001b[32m━━━━━━━━━━━━━━━━━━━━\u001b[0m\u001b[37m\u001b[0m \u001b[1m0s\u001b[0m 4ms/step - accuracy: 0.4142 - loss: 0.0774\n",
            "Epoch 26/100\n",
            "\u001b[1m60/60\u001b[0m \u001b[32m━━━━━━━━━━━━━━━━━━━━\u001b[0m\u001b[37m\u001b[0m \u001b[1m0s\u001b[0m 4ms/step - accuracy: 0.4308 - loss: 0.0765\n",
            "Epoch 27/100\n",
            "\u001b[1m60/60\u001b[0m \u001b[32m━━━━━━━━━━━━━━━━━━━━\u001b[0m\u001b[37m\u001b[0m \u001b[1m0s\u001b[0m 4ms/step - accuracy: 0.4492 - loss: 0.0754\n",
            "Epoch 28/100\n",
            "\u001b[1m60/60\u001b[0m \u001b[32m━━━━━━━━━━━━━━━━━━━━\u001b[0m\u001b[37m\u001b[0m \u001b[1m0s\u001b[0m 4ms/step - accuracy: 0.4735 - loss: 0.0743\n",
            "Epoch 29/100\n",
            "\u001b[1m60/60\u001b[0m \u001b[32m━━━━━━━━━━━━━━━━━━━━\u001b[0m\u001b[37m\u001b[0m \u001b[1m0s\u001b[0m 4ms/step - accuracy: 0.4926 - loss: 0.0735\n",
            "Epoch 30/100\n",
            "\u001b[1m60/60\u001b[0m \u001b[32m━━━━━━━━━━━━━━━━━━━━\u001b[0m\u001b[37m\u001b[0m \u001b[1m0s\u001b[0m 4ms/step - accuracy: 0.5150 - loss: 0.0722\n",
            "Epoch 31/100\n",
            "\u001b[1m60/60\u001b[0m \u001b[32m━━━━━━━━━━━━━━━━━━━━\u001b[0m\u001b[37m\u001b[0m \u001b[1m0s\u001b[0m 4ms/step - accuracy: 0.5325 - loss: 0.0710\n",
            "Epoch 32/100\n",
            "\u001b[1m60/60\u001b[0m \u001b[32m━━━━━━━━━━━━━━━━━━━━\u001b[0m\u001b[37m\u001b[0m \u001b[1m0s\u001b[0m 4ms/step - accuracy: 0.5465 - loss: 0.0700\n",
            "Epoch 33/100\n",
            "\u001b[1m60/60\u001b[0m \u001b[32m━━━━━━━━━━━━━━━━━━━━\u001b[0m\u001b[37m\u001b[0m \u001b[1m0s\u001b[0m 4ms/step - accuracy: 0.5618 - loss: 0.0683\n",
            "Epoch 34/100\n",
            "\u001b[1m60/60\u001b[0m \u001b[32m━━━━━━━━━━━━━━━━━━━━\u001b[0m\u001b[37m\u001b[0m \u001b[1m0s\u001b[0m 4ms/step - accuracy: 0.5818 - loss: 0.0668\n",
            "Epoch 35/100\n",
            "\u001b[1m60/60\u001b[0m \u001b[32m━━━━━━━━━━━━━━━━━━━━\u001b[0m\u001b[37m\u001b[0m \u001b[1m0s\u001b[0m 4ms/step - accuracy: 0.5934 - loss: 0.0653\n",
            "Epoch 36/100\n",
            "\u001b[1m60/60\u001b[0m \u001b[32m━━━━━━━━━━━━━━━━━━━━\u001b[0m\u001b[37m\u001b[0m \u001b[1m0s\u001b[0m 4ms/step - accuracy: 0.6065 - loss: 0.0635\n",
            "Epoch 37/100\n",
            "\u001b[1m60/60\u001b[0m \u001b[32m━━━━━━━━━━━━━━━━━━━━\u001b[0m\u001b[37m\u001b[0m \u001b[1m0s\u001b[0m 4ms/step - accuracy: 0.6216 - loss: 0.0617\n",
            "Epoch 38/100\n",
            "\u001b[1m60/60\u001b[0m \u001b[32m━━━━━━━━━━━━━━━━━━━━\u001b[0m\u001b[37m\u001b[0m \u001b[1m0s\u001b[0m 5ms/step - accuracy: 0.6346 - loss: 0.0598\n",
            "Epoch 39/100\n",
            "\u001b[1m60/60\u001b[0m \u001b[32m━━━━━━━━━━━━━━━━━━━━\u001b[0m\u001b[37m\u001b[0m \u001b[1m0s\u001b[0m 5ms/step - accuracy: 0.6500 - loss: 0.0577\n",
            "Epoch 40/100\n",
            "\u001b[1m60/60\u001b[0m \u001b[32m━━━━━━━━━━━━━━━━━━━━\u001b[0m\u001b[37m\u001b[0m \u001b[1m1s\u001b[0m 5ms/step - accuracy: 0.6581 - loss: 0.0560\n",
            "Epoch 41/100\n",
            "\u001b[1m60/60\u001b[0m \u001b[32m━━━━━━━━━━━━━━━━━━━━\u001b[0m\u001b[37m\u001b[0m \u001b[1m1s\u001b[0m 5ms/step - accuracy: 0.6734 - loss: 0.0536\n",
            "Epoch 42/100\n",
            "\u001b[1m60/60\u001b[0m \u001b[32m━━━━━━━━━━━━━━━━━━━━\u001b[0m\u001b[37m\u001b[0m \u001b[1m0s\u001b[0m 4ms/step - accuracy: 0.6840 - loss: 0.0516\n",
            "Epoch 43/100\n",
            "\u001b[1m60/60\u001b[0m \u001b[32m━━━━━━━━━━━━━━━━━━━━\u001b[0m\u001b[37m\u001b[0m \u001b[1m0s\u001b[0m 4ms/step - accuracy: 0.6982 - loss: 0.0494\n",
            "Epoch 44/100\n",
            "\u001b[1m60/60\u001b[0m \u001b[32m━━━━━━━━━━━━━━━━━━━━\u001b[0m\u001b[37m\u001b[0m \u001b[1m0s\u001b[0m 4ms/step - accuracy: 0.7178 - loss: 0.0471\n",
            "Epoch 45/100\n",
            "\u001b[1m60/60\u001b[0m \u001b[32m━━━━━━━━━━━━━━━━━━━━\u001b[0m\u001b[37m\u001b[0m \u001b[1m0s\u001b[0m 4ms/step - accuracy: 0.7217 - loss: 0.0455\n",
            "Epoch 46/100\n",
            "\u001b[1m60/60\u001b[0m \u001b[32m━━━━━━━━━━━━━━━━━━━━\u001b[0m\u001b[37m\u001b[0m \u001b[1m0s\u001b[0m 4ms/step - accuracy: 0.7359 - loss: 0.0435\n",
            "Epoch 47/100\n",
            "\u001b[1m60/60\u001b[0m \u001b[32m━━━━━━━━━━━━━━━━━━━━\u001b[0m\u001b[37m\u001b[0m \u001b[1m0s\u001b[0m 4ms/step - accuracy: 0.7457 - loss: 0.0418\n",
            "Epoch 48/100\n",
            "\u001b[1m60/60\u001b[0m \u001b[32m━━━━━━━━━━━━━━━━━━━━\u001b[0m\u001b[37m\u001b[0m \u001b[1m0s\u001b[0m 4ms/step - accuracy: 0.7510 - loss: 0.0404\n",
            "Epoch 49/100\n",
            "\u001b[1m60/60\u001b[0m \u001b[32m━━━━━━━━━━━━━━━━━━━━\u001b[0m\u001b[37m\u001b[0m \u001b[1m0s\u001b[0m 4ms/step - accuracy: 0.7631 - loss: 0.0386\n",
            "Epoch 50/100\n",
            "\u001b[1m60/60\u001b[0m \u001b[32m━━━━━━━━━━━━━━━━━━━━\u001b[0m\u001b[37m\u001b[0m \u001b[1m0s\u001b[0m 4ms/step - accuracy: 0.7787 - loss: 0.0368\n",
            "Epoch 51/100\n",
            "\u001b[1m60/60\u001b[0m \u001b[32m━━━━━━━━━━━━━━━━━━━━\u001b[0m\u001b[37m\u001b[0m \u001b[1m0s\u001b[0m 4ms/step - accuracy: 0.7907 - loss: 0.0352\n",
            "Epoch 52/100\n",
            "\u001b[1m60/60\u001b[0m \u001b[32m━━━━━━━━━━━━━━━━━━━━\u001b[0m\u001b[37m\u001b[0m \u001b[1m0s\u001b[0m 4ms/step - accuracy: 0.7986 - loss: 0.0340\n",
            "Epoch 53/100\n",
            "\u001b[1m60/60\u001b[0m \u001b[32m━━━━━━━━━━━━━━━━━━━━\u001b[0m\u001b[37m\u001b[0m \u001b[1m0s\u001b[0m 4ms/step - accuracy: 0.8059 - loss: 0.0328\n",
            "Epoch 54/100\n",
            "\u001b[1m60/60\u001b[0m \u001b[32m━━━━━━━━━━━━━━━━━━━━\u001b[0m\u001b[37m\u001b[0m \u001b[1m0s\u001b[0m 4ms/step - accuracy: 0.8155 - loss: 0.0315\n",
            "Epoch 55/100\n",
            "\u001b[1m60/60\u001b[0m \u001b[32m━━━━━━━━━━━━━━━━━━━━\u001b[0m\u001b[37m\u001b[0m \u001b[1m0s\u001b[0m 4ms/step - accuracy: 0.8215 - loss: 0.0304\n",
            "Epoch 56/100\n",
            "\u001b[1m60/60\u001b[0m \u001b[32m━━━━━━━━━━━━━━━━━━━━\u001b[0m\u001b[37m\u001b[0m \u001b[1m0s\u001b[0m 4ms/step - accuracy: 0.8272 - loss: 0.0294\n",
            "Epoch 57/100\n",
            "\u001b[1m60/60\u001b[0m \u001b[32m━━━━━━━━━━━━━━━━━━━━\u001b[0m\u001b[37m\u001b[0m \u001b[1m0s\u001b[0m 4ms/step - accuracy: 0.8285 - loss: 0.0287\n",
            "Epoch 58/100\n",
            "\u001b[1m60/60\u001b[0m \u001b[32m━━━━━━━━━━━━━━━━━━━━\u001b[0m\u001b[37m\u001b[0m \u001b[1m0s\u001b[0m 4ms/step - accuracy: 0.8295 - loss: 0.0281\n",
            "Epoch 59/100\n",
            "\u001b[1m60/60\u001b[0m \u001b[32m━━━━━━━━━━━━━━━━━━━━\u001b[0m\u001b[37m\u001b[0m \u001b[1m0s\u001b[0m 4ms/step - accuracy: 0.8364 - loss: 0.0271\n",
            "Epoch 60/100\n",
            "\u001b[1m60/60\u001b[0m \u001b[32m━━━━━━━━━━━━━━━━━━━━\u001b[0m\u001b[37m\u001b[0m \u001b[1m0s\u001b[0m 4ms/step - accuracy: 0.8389 - loss: 0.0265\n",
            "Epoch 61/100\n",
            "\u001b[1m60/60\u001b[0m \u001b[32m━━━━━━━━━━━━━━━━━━━━\u001b[0m\u001b[37m\u001b[0m \u001b[1m0s\u001b[0m 4ms/step - accuracy: 0.8440 - loss: 0.0257\n",
            "Epoch 62/100\n",
            "\u001b[1m60/60\u001b[0m \u001b[32m━━━━━━━━━━━━━━━━━━━━\u001b[0m\u001b[37m\u001b[0m \u001b[1m0s\u001b[0m 4ms/step - accuracy: 0.8453 - loss: 0.0252\n",
            "Epoch 63/100\n",
            "\u001b[1m60/60\u001b[0m \u001b[32m━━━━━━━━━━━━━━━━━━━━\u001b[0m\u001b[37m\u001b[0m \u001b[1m0s\u001b[0m 4ms/step - accuracy: 0.8491 - loss: 0.0246\n",
            "Epoch 64/100\n",
            "\u001b[1m60/60\u001b[0m \u001b[32m━━━━━━━━━━━━━━━━━━━━\u001b[0m\u001b[37m\u001b[0m \u001b[1m0s\u001b[0m 4ms/step - accuracy: 0.8519 - loss: 0.0241\n",
            "Epoch 65/100\n",
            "\u001b[1m60/60\u001b[0m \u001b[32m━━━━━━━━━━━━━━━━━━━━\u001b[0m\u001b[37m\u001b[0m \u001b[1m0s\u001b[0m 4ms/step - accuracy: 0.8546 - loss: 0.0236\n",
            "Epoch 66/100\n",
            "\u001b[1m60/60\u001b[0m \u001b[32m━━━━━━━━━━━━━━━━━━━━\u001b[0m\u001b[37m\u001b[0m \u001b[1m0s\u001b[0m 4ms/step - accuracy: 0.8542 - loss: 0.0235\n",
            "Epoch 67/100\n",
            "\u001b[1m60/60\u001b[0m \u001b[32m━━━━━━━━━━━━━━━━━━━━\u001b[0m\u001b[37m\u001b[0m \u001b[1m0s\u001b[0m 4ms/step - accuracy: 0.8539 - loss: 0.0232\n",
            "Epoch 68/100\n",
            "\u001b[1m60/60\u001b[0m \u001b[32m━━━━━━━━━━━━━━━━━━━━\u001b[0m\u001b[37m\u001b[0m \u001b[1m0s\u001b[0m 4ms/step - accuracy: 0.8630 - loss: 0.0222\n",
            "Epoch 69/100\n",
            "\u001b[1m60/60\u001b[0m \u001b[32m━━━━━━━━━━━━━━━━━━━━\u001b[0m\u001b[37m\u001b[0m \u001b[1m0s\u001b[0m 4ms/step - accuracy: 0.8616 - loss: 0.0223\n",
            "Epoch 70/100\n",
            "\u001b[1m60/60\u001b[0m \u001b[32m━━━━━━━━━━━━━━━━━━━━\u001b[0m\u001b[37m\u001b[0m \u001b[1m0s\u001b[0m 4ms/step - accuracy: 0.8629 - loss: 0.0219\n",
            "Epoch 71/100\n",
            "\u001b[1m60/60\u001b[0m \u001b[32m━━━━━━━━━━━━━━━━━━━━\u001b[0m\u001b[37m\u001b[0m \u001b[1m0s\u001b[0m 4ms/step - accuracy: 0.8662 - loss: 0.0215\n",
            "Epoch 72/100\n",
            "\u001b[1m60/60\u001b[0m \u001b[32m━━━━━━━━━━━━━━━━━━━━\u001b[0m\u001b[37m\u001b[0m \u001b[1m0s\u001b[0m 4ms/step - accuracy: 0.8667 - loss: 0.0213\n",
            "Epoch 73/100\n",
            "\u001b[1m60/60\u001b[0m \u001b[32m━━━━━━━━━━━━━━━━━━━━\u001b[0m\u001b[37m\u001b[0m \u001b[1m0s\u001b[0m 4ms/step - accuracy: 0.8689 - loss: 0.0209\n",
            "Epoch 74/100\n",
            "\u001b[1m60/60\u001b[0m \u001b[32m━━━━━━━━━━━━━━━━━━━━\u001b[0m\u001b[37m\u001b[0m \u001b[1m0s\u001b[0m 4ms/step - accuracy: 0.8708 - loss: 0.0206\n",
            "Epoch 75/100\n",
            "\u001b[1m60/60\u001b[0m \u001b[32m━━━━━━━━━━━━━━━━━━━━\u001b[0m\u001b[37m\u001b[0m \u001b[1m0s\u001b[0m 4ms/step - accuracy: 0.8684 - loss: 0.0209\n",
            "Epoch 76/100\n",
            "\u001b[1m60/60\u001b[0m \u001b[32m━━━━━━━━━━━━━━━━━━━━\u001b[0m\u001b[37m\u001b[0m \u001b[1m0s\u001b[0m 4ms/step - accuracy: 0.8735 - loss: 0.0201\n",
            "Epoch 77/100\n",
            "\u001b[1m60/60\u001b[0m \u001b[32m━━━━━━━━━━━━━━━━━━━━\u001b[0m\u001b[37m\u001b[0m \u001b[1m0s\u001b[0m 4ms/step - accuracy: 0.8765 - loss: 0.0198\n",
            "Epoch 78/100\n",
            "\u001b[1m60/60\u001b[0m \u001b[32m━━━━━━━━━━━━━━━━━━━━\u001b[0m\u001b[37m\u001b[0m \u001b[1m0s\u001b[0m 4ms/step - accuracy: 0.8761 - loss: 0.0197\n",
            "Epoch 79/100\n",
            "\u001b[1m60/60\u001b[0m \u001b[32m━━━━━━━━━━━━━━━━━━━━\u001b[0m\u001b[37m\u001b[0m \u001b[1m0s\u001b[0m 5ms/step - accuracy: 0.8770 - loss: 0.0195\n",
            "Epoch 80/100\n",
            "\u001b[1m60/60\u001b[0m \u001b[32m━━━━━━━━━━━━━━━━━━━━\u001b[0m\u001b[37m\u001b[0m \u001b[1m0s\u001b[0m 5ms/step - accuracy: 0.8796 - loss: 0.0191\n",
            "Epoch 81/100\n",
            "\u001b[1m60/60\u001b[0m \u001b[32m━━━━━━━━━━━━━━━━━━━━\u001b[0m\u001b[37m\u001b[0m \u001b[1m0s\u001b[0m 5ms/step - accuracy: 0.8794 - loss: 0.0191\n",
            "Epoch 82/100\n",
            "\u001b[1m60/60\u001b[0m \u001b[32m━━━━━━━━━━━━━━━━━━━━\u001b[0m\u001b[37m\u001b[0m \u001b[1m0s\u001b[0m 6ms/step - accuracy: 0.8798 - loss: 0.0189\n",
            "Epoch 83/100\n",
            "\u001b[1m60/60\u001b[0m \u001b[32m━━━━━━━━━━━━━━━━━━━━\u001b[0m\u001b[37m\u001b[0m \u001b[1m1s\u001b[0m 5ms/step - accuracy: 0.8824 - loss: 0.0187\n",
            "Epoch 84/100\n",
            "\u001b[1m60/60\u001b[0m \u001b[32m━━━━━━━━━━━━━━━━━━━━\u001b[0m\u001b[37m\u001b[0m \u001b[1m0s\u001b[0m 4ms/step - accuracy: 0.8804 - loss: 0.0189\n",
            "Epoch 85/100\n",
            "\u001b[1m60/60\u001b[0m \u001b[32m━━━━━━━━━━━━━━━━━━━━\u001b[0m\u001b[37m\u001b[0m \u001b[1m0s\u001b[0m 4ms/step - accuracy: 0.8810 - loss: 0.0187\n",
            "Epoch 86/100\n",
            "\u001b[1m60/60\u001b[0m \u001b[32m━━━━━━━━━━━━━━━━━━━━\u001b[0m\u001b[37m\u001b[0m \u001b[1m0s\u001b[0m 4ms/step - accuracy: 0.8830 - loss: 0.0185\n",
            "Epoch 87/100\n",
            "\u001b[1m60/60\u001b[0m \u001b[32m━━━━━━━━━━━━━━━━━━━━\u001b[0m\u001b[37m\u001b[0m \u001b[1m0s\u001b[0m 4ms/step - accuracy: 0.8854 - loss: 0.0181\n",
            "Epoch 88/100\n",
            "\u001b[1m60/60\u001b[0m \u001b[32m━━━━━━━━━━━━━━━━━━━━\u001b[0m\u001b[37m\u001b[0m \u001b[1m0s\u001b[0m 4ms/step - accuracy: 0.8865 - loss: 0.0179\n",
            "Epoch 89/100\n",
            "\u001b[1m60/60\u001b[0m \u001b[32m━━━━━━━━━━━━━━━━━━━━\u001b[0m\u001b[37m\u001b[0m \u001b[1m0s\u001b[0m 4ms/step - accuracy: 0.8859 - loss: 0.0180\n",
            "Epoch 90/100\n",
            "\u001b[1m60/60\u001b[0m \u001b[32m━━━━━━━━━━━━━━━━━━━━\u001b[0m\u001b[37m\u001b[0m \u001b[1m0s\u001b[0m 4ms/step - accuracy: 0.8872 - loss: 0.0178\n",
            "Epoch 91/100\n",
            "\u001b[1m60/60\u001b[0m \u001b[32m━━━━━━━━━━━━━━━━━━━━\u001b[0m\u001b[37m\u001b[0m \u001b[1m0s\u001b[0m 4ms/step - accuracy: 0.8929 - loss: 0.0171\n",
            "Epoch 92/100\n",
            "\u001b[1m60/60\u001b[0m \u001b[32m━━━━━━━━━━━━━━━━━━━━\u001b[0m\u001b[37m\u001b[0m \u001b[1m0s\u001b[0m 4ms/step - accuracy: 0.8892 - loss: 0.0174\n",
            "Epoch 93/100\n",
            "\u001b[1m60/60\u001b[0m \u001b[32m━━━━━━━━━━━━━━━━━━━━\u001b[0m\u001b[37m\u001b[0m \u001b[1m0s\u001b[0m 4ms/step - accuracy: 0.8912 - loss: 0.0172\n",
            "Epoch 94/100\n",
            "\u001b[1m60/60\u001b[0m \u001b[32m━━━━━━━━━━━━━━━━━━━━\u001b[0m\u001b[37m\u001b[0m \u001b[1m0s\u001b[0m 4ms/step - accuracy: 0.8924 - loss: 0.0171\n",
            "Epoch 95/100\n",
            "\u001b[1m60/60\u001b[0m \u001b[32m━━━━━━━━━━━━━━━━━━━━\u001b[0m\u001b[37m\u001b[0m \u001b[1m0s\u001b[0m 4ms/step - accuracy: 0.8912 - loss: 0.0171\n",
            "Epoch 96/100\n",
            "\u001b[1m60/60\u001b[0m \u001b[32m━━━━━━━━━━━━━━━━━━━━\u001b[0m\u001b[37m\u001b[0m \u001b[1m0s\u001b[0m 4ms/step - accuracy: 0.8918 - loss: 0.0170\n",
            "Epoch 97/100\n",
            "\u001b[1m60/60\u001b[0m \u001b[32m━━━━━━━━━━━━━━━━━━━━\u001b[0m\u001b[37m\u001b[0m \u001b[1m0s\u001b[0m 4ms/step - accuracy: 0.8921 - loss: 0.0170\n",
            "Epoch 98/100\n",
            "\u001b[1m60/60\u001b[0m \u001b[32m━━━━━━━━━━━━━━━━━━━━\u001b[0m\u001b[37m\u001b[0m \u001b[1m0s\u001b[0m 4ms/step - accuracy: 0.8945 - loss: 0.0166\n",
            "Epoch 99/100\n",
            "\u001b[1m60/60\u001b[0m \u001b[32m━━━━━━━━━━━━━━━━━━━━\u001b[0m\u001b[37m\u001b[0m \u001b[1m0s\u001b[0m 4ms/step - accuracy: 0.8938 - loss: 0.0166\n",
            "Epoch 100/100\n",
            "\u001b[1m60/60\u001b[0m \u001b[32m━━━━━━━━━━━━━━━━━━━━\u001b[0m\u001b[37m\u001b[0m \u001b[1m0s\u001b[0m 4ms/step - accuracy: 0.8952 - loss: 0.0165\n"
          ]
        },
        {
          "output_type": "execute_result",
          "data": {
            "text/plain": [
              "<keras.src.callbacks.history.History at 0x78572471d8d0>"
            ]
          },
          "metadata": {},
          "execution_count": 16
        }
      ],
      "source": [
        "model.fit(x_train, y_train, batch_size=1000, epochs=100)"
      ]
    },
    {
      "cell_type": "markdown",
      "metadata": {
        "id": "-6ykAvga0Avq"
      },
      "source": [
        "## 6. 試用結果\n"
      ]
    },
    {
      "cell_type": "code",
      "execution_count": 17,
      "metadata": {
        "colab": {
          "base_uri": "https://localhost:8080/"
        },
        "id": "b55S3WrDyJT6",
        "outputId": "4039641a-f981-4d0b-aa81-71f06c7042a1"
      },
      "outputs": [
        {
          "output_type": "stream",
          "name": "stdout",
          "text": [
            "\u001b[1m313/313\u001b[0m \u001b[32m━━━━━━━━━━━━━━━━━━━━\u001b[0m\u001b[37m\u001b[0m \u001b[1m2s\u001b[0m 3ms/step - accuracy: 0.8845 - loss: 0.0182\n"
          ]
        }
      ],
      "source": [
        "x_test = x_test.reshape(-1, 784)\n",
        "loss, acc = model.evaluate(x_test, y_test)"
      ]
    },
    {
      "cell_type": "code",
      "execution_count": 18,
      "metadata": {
        "colab": {
          "base_uri": "https://localhost:8080/"
        },
        "id": "Z5XOR_Pd0Avq",
        "outputId": "26f7de8f-45ee-4f16-9497-33b055730670"
      },
      "outputs": [
        {
          "output_type": "stream",
          "name": "stdout",
          "text": [
            "測試資料正確率 90.08%\n"
          ]
        }
      ],
      "source": [
        "print(f\"測試資料正確率 {acc*100:.2f}%\")"
      ]
    },
    {
      "cell_type": "markdown",
      "metadata": {
        "id": "XTog-oR90Avr"
      },
      "source": [
        "\"predict\" 放的是神經網路的學習結果。做完之後用 argmax 找到數值最大的那一項。"
      ]
    },
    {
      "cell_type": "code",
      "execution_count": 19,
      "metadata": {
        "colab": {
          "base_uri": "https://localhost:8080/"
        },
        "id": "6MlKktZ50Avr",
        "outputId": "d7eb77d2-50f2-4c5e-cecf-386654c51abf"
      },
      "outputs": [
        {
          "output_type": "stream",
          "name": "stdout",
          "text": [
            "\u001b[1m313/313\u001b[0m \u001b[32m━━━━━━━━━━━━━━━━━━━━\u001b[0m\u001b[37m\u001b[0m \u001b[1m1s\u001b[0m 2ms/step\n"
          ]
        }
      ],
      "source": [
        "predict = np.argmax(model.predict(x_test), axis=-1)"
      ]
    },
    {
      "cell_type": "code",
      "execution_count": 20,
      "metadata": {
        "colab": {
          "base_uri": "https://localhost:8080/"
        },
        "id": "cpilhXP00Avs",
        "outputId": "121e6e1d-c8e2-45f1-f01b-2cea5336d316"
      },
      "outputs": [
        {
          "output_type": "stream",
          "name": "stdout",
          "text": [
            "\u001b[1m313/313\u001b[0m \u001b[32m━━━━━━━━━━━━━━━━━━━━\u001b[0m\u001b[37m\u001b[0m \u001b[1m1s\u001b[0m 2ms/step - accuracy: 0.8845 - loss: 0.0182\n"
          ]
        }
      ],
      "source": [
        "score = model.evaluate(x_test, y_test)"
      ]
    },
    {
      "cell_type": "code",
      "execution_count": 21,
      "metadata": {
        "colab": {
          "base_uri": "https://localhost:8080/"
        },
        "id": "GTtgPGrF0Avt",
        "outputId": "1f115310-a446-4f37-d37f-e930aef1e3fa"
      },
      "outputs": [
        {
          "output_type": "stream",
          "name": "stdout",
          "text": [
            "loss: 0.015681294724345207\n",
            "accuracy 0.9007999897003174\n"
          ]
        }
      ],
      "source": [
        "print('loss:', score[0])\n",
        "print('accuracy', score[1])"
      ]
    },
    {
      "cell_type": "markdown",
      "metadata": {
        "id": "FWK0fgKgCHa7"
      },
      "source": [
        "### 7. 用 Gradio 來展示"
      ]
    },
    {
      "cell_type": "code",
      "execution_count": 22,
      "metadata": {
        "id": "YCDldfE4eVh6"
      },
      "outputs": [],
      "source": [
        "def resize_image(inp):\n",
        "    # 圖在 inp[\"layers\"][0]\n",
        "    image = np.array(inp[\"layers\"][0], dtype=np.float32)\n",
        "    image = image.astype(np.uint8)\n",
        "\n",
        "    # 轉成 PIL 格式\n",
        "    image_pil = Image.fromarray(image)\n",
        "\n",
        "    # Alpha 通道設為白色, 再把圖從 RGBA 轉成 RGB\n",
        "    background = Image.new(\"RGB\", image_pil.size, (255, 255, 255))\n",
        "    background.paste(image_pil, mask=image_pil.split()[3]) # 把圖片粘貼到白色背景上，使用透明通道作為遮罩\n",
        "    image_pil = background\n",
        "\n",
        "    # 轉換為灰階圖像\n",
        "    image_gray = image_pil.convert(\"L\")\n",
        "\n",
        "    # 將灰階圖像縮放到 28x28, 轉回 numpy array\n",
        "    img_array = np.array(image_gray.resize((28, 28), resample=Image.LANCZOS))\n",
        "\n",
        "    # 配合 MNIST 數據集\n",
        "    img_array = 255 - img_array\n",
        "\n",
        "    # 拉平並縮放\n",
        "    img_array = img_array.reshape(1, 784) / 255.0\n",
        "\n",
        "    return img_array"
      ]
    },
    {
      "cell_type": "code",
      "execution_count": 23,
      "metadata": {
        "id": "QUejwCO9S7R4"
      },
      "outputs": [],
      "source": [
        "def recognize_digit(inp):\n",
        "    img_array = resize_image(inp)\n",
        "    prediction = model.predict(img_array).flatten()\n",
        "    labels = list('0123456789')\n",
        "    return {labels[i]: float(prediction[i]) for i in range(10)}"
      ]
    },
    {
      "cell_type": "code",
      "execution_count": 24,
      "metadata": {
        "colab": {
          "base_uri": "https://localhost:8080/",
          "height": 668
        },
        "id": "ITOFueb5KSBD",
        "outputId": "a1c65aaa-facd-4531-9f17-eebac8609699",
        "collapsed": true
      },
      "outputs": [
        {
          "output_type": "stream",
          "name": "stdout",
          "text": [
            "Colab notebook detected. This cell will run indefinitely so that you can see errors and logs. To turn off, set debug=False in launch().\n",
            "* Running on public URL: https://ae4acd746372259a52.gradio.live\n",
            "\n",
            "This share link expires in 72 hours. For free permanent hosting and GPU upgrades, run `gradio deploy` from the terminal in the working directory to deploy to Hugging Face Spaces (https://huggingface.co/spaces)\n"
          ]
        },
        {
          "output_type": "display_data",
          "data": {
            "text/plain": [
              "<IPython.core.display.HTML object>"
            ],
            "text/html": [
              "<div><iframe src=\"https://ae4acd746372259a52.gradio.live\" width=\"100%\" height=\"500\" allow=\"autoplay; camera; microphone; clipboard-read; clipboard-write;\" frameborder=\"0\" allowfullscreen></iframe></div>"
            ]
          },
          "metadata": {}
        },
        {
          "output_type": "stream",
          "name": "stdout",
          "text": [
            "\u001b[1m1/1\u001b[0m \u001b[32m━━━━━━━━━━━━━━━━━━━━\u001b[0m\u001b[37m\u001b[0m \u001b[1m0s\u001b[0m 244ms/step\n",
            "Keyboard interruption in main thread... closing server.\n",
            "Killing tunnel 127.0.0.1:7860 <> https://ae4acd746372259a52.gradio.live\n"
          ]
        },
        {
          "output_type": "execute_result",
          "data": {
            "text/plain": []
          },
          "metadata": {},
          "execution_count": 24
        }
      ],
      "source": [
        "iface = gr.Interface(\n",
        "    fn=recognize_digit,\n",
        "    inputs=gr.Sketchpad(),\n",
        "    outputs=gr.Label(num_top_classes=3),\n",
        "    title=\"MNIST 手寫辨識\",\n",
        "    description=\"請在畫板上繪製數字\"\n",
        ")\n",
        "\n",
        "iface.launch(share=True, debug=True)"
      ]
    },
    {
      "cell_type": "markdown",
      "source": [
        "###成果截圖"
      ],
      "metadata": {
        "id": "mpBvUTINe_oO"
      }
    },
    {
      "cell_type": "markdown",
      "source": [
        "![image.png](data:image/png;base64,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)"
      ],
      "metadata": {
        "id": "HDpi6AUsS5H_"
      }
    },
    {
      "cell_type": "markdown",
      "source": [
        "![image.png](data:image/png;base64,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)"
      ],
      "metadata": {
        "id": "ROzmm41RoiLf"
      }
    }
  ],
  "metadata": {
    "accelerator": "GPU",
    "anaconda-cloud": {},
    "colab": {
      "provenance": [],
      "include_colab_link": true
    },
    "kernelspec": {
      "display_name": "Python 3",
      "name": "python3"
    },
    "language_info": {
      "name": "python"
    }
  },
  "nbformat": 4,
  "nbformat_minor": 0
}
